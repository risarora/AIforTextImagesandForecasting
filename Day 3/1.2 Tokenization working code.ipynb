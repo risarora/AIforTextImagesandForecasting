{
 "cells": [
  {
   "cell_type": "code",
   "execution_count": 8,
   "metadata": {},
   "outputs": [
    {
     "name": "stdout",
     "output_type": "stream",
     "text": [
      "Word Index \n",
      " {'<OOV>': 1, 'my': 2, 'love': 3, 'dog': 4, 'i': 5, 'you': 6, 'cat': 7, 'do': 8, 'think': 9, 'is': 10, 'amazing': 11}\n",
      "String sequence\n",
      " ['I love my dog', 'I love my cat', 'You love my dog!', 'Do you think my Dog is amazing']\n",
      "Token Sequence\n",
      " [[5, 3, 2, 4], [5, 3, 2, 7], [6, 3, 2, 4], [8, 6, 9, 2, 4, 10, 11]]\n",
      "Padded Sequence \n",
      " [[ 0  0  0  5  3  2  4]\n",
      " [ 0  0  0  5  3  2  7]\n",
      " [ 0  0  0  6  3  2  4]\n",
      " [ 8  6  9  2  4 10 11]]\n",
      "Test Sentences\n",
      " ['My dog is golden retriever', 'everyone thinks my Dog is amazing']\n",
      "Test Sequences\n",
      " [[2, 4, 10, 1, 1], [1, 1, 2, 4, 10, 11]]\n",
      "Padded Sequence \n",
      " [[ 0  2  4 10  1  1]\n",
      " [ 1  1  2  4 10 11]]\n",
      "Padded Sequence \n",
      " [[ 2  4 10  1  1  0]\n",
      " [ 1  1  2  4 10 11]]\n",
      "Padded Sequence \n",
      " [[ 2  4 10  1  1]\n",
      " [ 1  2  4 10 11]]\n",
      "Padded Sequence \n",
      " [[ 2  4 10  1  1]\n",
      " [ 1  1  2  4 10]]\n",
      "Padded Sequence \n",
      " [[ 2  4 10  1  1  0]\n",
      " [ 1  1  2  4 10 11]]\n"
     ]
    }
   ],
   "source": [
    "\n",
    "import tensorflow as tf \n",
    "from tensorflow import keras\n",
    "from tensorflow.keras.preprocessing.text import Tokenizer\n",
    "from tensorflow.keras.preprocessing.sequence import pad_sequences\n",
    "tokenizer = Tokenizer(num_words=100,oov_token=\"<OOV>\")\n",
    "train_sentences = [\n",
    "    'I love my dog',\n",
    "    'I love my cat',\n",
    "    'You love my dog!',\n",
    "    'Do you think my Dog is amazing'\n",
    "]\n",
    "\n",
    "tokenizer.fit_on_texts(train_sentences)\n",
    "word_index = tokenizer.word_index\n",
    "\n",
    "print(\"Word Index \\n\",word_index)\n",
    "sequences = tokenizer.texts_to_sequences(train_sentences)\n",
    "print(\"String sequence\\n\",train_sentences)\n",
    "print(\"Token Sequence\\n\",sequences)\n",
    "padded = pad_sequences(sequences)\n",
    "print(\"Padded Sequence \\n\",padded)\n",
    "test_sentences = [\n",
    "    'My dog is golden retriever',\n",
    "    'everyone thinks my Dog is amazing'\n",
    "]\n",
    "test_sequences = tokenizer.texts_to_sequences(test_sentences)\n",
    "print(\"Test Sentences\\n\",test_sentences)\n",
    "print(\"Test Sequences\\n\",test_sequences)\n",
    "## Adding padding\n",
    "padded = pad_sequences(test_sequences)\n",
    "print(\"Padded Sequence \\n\",padded)\n",
    "## Adding 'post' padding\n",
    "padded = pad_sequences(test_sequences, padding='post')#,maxlen=7)# truncating='post'\n",
    "print(\"Padded Sequence \\n\",padded)\n",
    "## Set max length\n",
    "padded = pad_sequences(test_sequences, padding='post',maxlen=5)\n",
    "print(\"Padded Sequence \\n\",padded)\n",
    "## Set 'post' truncating\n",
    "\n",
    "padded = pad_sequences(test_sequences, padding='post',maxlen=5, truncating='post')\n",
    "print(\"Padded Sequence \\n\",padded)\n",
    "padded = pad_sequences(test_sequences, padding='post')#,maxlen=7)# truncating='post'\n",
    "print(\"Padded Sequence \\n\",padded)\n"
   ]
  }
 ],
 "metadata": {
  "kernelspec": {
   "display_name": "Python 3",
   "language": "python",
   "name": "python3"
  },
  "language_info": {
   "codemirror_mode": {
    "name": "ipython",
    "version": 3
   },
   "file_extension": ".py",
   "mimetype": "text/x-python",
   "name": "python",
   "nbconvert_exporter": "python",
   "pygments_lexer": "ipython3",
   "version": "3.6.8"
  }
 },
 "nbformat": 4,
 "nbformat_minor": 2
}
