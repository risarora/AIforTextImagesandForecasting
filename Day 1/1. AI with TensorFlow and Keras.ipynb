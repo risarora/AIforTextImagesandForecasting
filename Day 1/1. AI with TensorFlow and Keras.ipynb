{
 "cells": [
  {
   "cell_type": "markdown",
   "metadata": {},
   "source": [
    "# What is AI"
   ]
  },
  {
   "cell_type": "markdown",
   "metadata": {},
   "source": [
    "## A brief history of AI"
   ]
  },
  {
   "cell_type": "markdown",
   "metadata": {},
   "source": [
    "### Turing's test"
   ]
  },
  {
   "cell_type": "code",
   "execution_count": null,
   "metadata": {},
   "outputs": [],
   "source": []
  },
  {
   "cell_type": "markdown",
   "metadata": {},
   "source": [
    "### IBM Watson playing and winning a game of jeopardy   \n",
    " In 2011, the Watson computer system competed on Jeopardy! against legendary champions Brad Rutter and Ken Jennings, winning the first place prize of $1 million.\n",
    "    https://en.wikipedia.org/wiki/Watson_(computer)\n",
    "\n",
    "### Defeat the world's top professional team.   \n",
    "OpenAI Five is the first AI to beat the world champions in an esports game, having won two back-to-back games versus the world champion Dota 2 team, OG, at Finals.\n",
    "\n",
    "![./images/image.png](./images/image.png)\n",
    "https://openai.com/five/    \n",
    "### AI Beats Doctors at Cancer Diagnoses   \n",
    "https://www.eurekalert.org/pub_releases/2018-05/esfm-mam052418.php\n"
   ]
  },
  {
   "cell_type": "code",
   "execution_count": null,
   "metadata": {},
   "outputs": [],
   "source": []
  },
  {
   "cell_type": "markdown",
   "metadata": {},
   "source": [
    "## Types of AI systems\n",
    "\n",
    "What are the four types of artificial intelligence?\n",
    "\n",
    "### Reactive machines\n",
    "Reactive machines are the most basic type of AI system. This means that they cannot form memories or use past experiences to influence present-made decisions; they can only react to currently existing situations – hence “reactive.” An existing form of a reactive machine is Deep Blue, a chess-playing supercomputer created by IBM in the mid-1980s.\n",
    "\n",
    "### Limited memory   \n",
    "Limited memory is comprised of machine learning models that derive knowledge from previously-learned information, stored data, or events. Unlike reactive machines, limited memory learns from the past by observing actions or data fed to them in order to build experiential knowledge.\n",
    "Although limited memory builds on observational data in conjunction with pre-programmed data the machines already contain, these sample pieces of information are fleeting. An existing form of limited memory is autonomous vehicles.\n",
    "\n",
    "### Theory of mind\n",
    "What constitutes theory of mind is decision-making ability equal to the extent of a human mind, but by machines. While there are some machines that currently exhibit humanlike capabilities (voice assistants, for instance), none are fully capable of holding conversations relative to human standards. One component of human conversation is having emotional capacity, or sounding and behaving like a person would in standard conventions of conversation.\n",
    "Two notable examples are the robots Kismet and Sophia, created in 2000 and 2016, respectively.\n",
    "\n",
    "Kismet, developed by Professor Cynthia Breazeal, was capable of recognizing human facial signals (emotions) and could replicate said emotions with its face, which was structured with human facial features: eyes, lips, ears, eyebrows, and eyelids. \n",
    "![./images/kismet.jpg](./images/kismet.jpg)\n",
    "\n",
    "https://www.youtube.com/watch?v=Kw-gOmJwzuc&feature=youtu.be   \n",
    "\n",
    "\n",
    "Sophia, on the other hand, is a humanoid bot created by Hanson Robotics. What distinguishes her from previous robots is her physical likeness to a human being as well as her ability to see (image recognition) and respond to interactions with appropriate facial expressions.\n",
    "\n",
    "\n",
    "\n",
    "![./imaghes/sophiarobotfacialexpressions.gif](./images/sophiarobotfacialexpressions.gif)\n",
    "           GIF courtesy of GIPHY\n",
    "\n",
    "\n",
    "\n",
    "### Self-awareness\n",
    "Self-aware AI involves machines that have human-level consciousness. This form of AI is not currently in existence, but would be considered the most advanced form of artificial intelligence known to man. \n",
    "![./images/terminator.gif](./images/terminator.gif)\n",
    "\n",
    "\n",
    "https://learn.g2.com/types-of-artificial-intelligence"
   ]
  }
 ],
 "metadata": {
  "kernelspec": {
   "display_name": "Python 3",
   "language": "python",
   "name": "python3"
  },
  "language_info": {
   "codemirror_mode": {
    "name": "ipython",
    "version": 3
   },
   "file_extension": ".py",
   "mimetype": "text/x-python",
   "name": "python",
   "nbconvert_exporter": "python",
   "pygments_lexer": "ipython3",
   "version": "3.6.8"
  }
 },
 "nbformat": 4,
 "nbformat_minor": 2
}
