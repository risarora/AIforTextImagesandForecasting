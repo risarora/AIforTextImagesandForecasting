{
 "cells": [
  {
   "cell_type": "markdown",
   "metadata": {},
   "source": [
    "### TensorFlow works around 3 main components:\n",
    "\n",
    "* Graph\n",
    "* Tensor\n",
    "* Session"
   ]
  },
  {
   "cell_type": "markdown",
   "metadata": {},
   "source": [
    "Components|Descritption\n",
    "---|---\n",
    "Tensor|A tensor represents the data that progress between operations. \n",
    "Graph | All of the mathematical operations are performed inside a graph. You can <br>imagine a graph as a project where every operations are done.<br> The nodes represent these ops, they can absorb or create new tensors.\n",
    "Session|A session will execute the operation from the graph.<br> To feed the graph with the values of a tensor, you need to open a session. <br>Inside a session, you must run an operator to create an output.\n"
   ]
  },
  {
   "cell_type": "markdown",
   "metadata": {},
   "source": [
    "# Introduction to Tensors"
   ]
  },
  {
   "cell_type": "markdown",
   "metadata": {},
   "source": [
    "### What is a Tensor?\n",
    "Tensorflow's name is directly derived from its core framework: Tensor. In Tensorflow, all the computations involve tensors. A tensor is a vector or matrix of n-dimensions that represents all types of data. All values in a tensor hold identical data type with a known (or partially known) shape. The shape of the data is the dimensionality of the matrix or array.\n",
    "\n",
    "A tensor can be originated from the input data or the result of a computation. In TensorFlow, all the operations are conducted inside a graph. The graph is a set of computation that takes place successively. Each operation is called an op node and are connected to each other.\n",
    "\n",
    "The graph outlines the ops and connections between the nodes. However, it does not display the values. The edge of the nodes is the tensor, i.e., a way to populate the operation with data.\n",
    "\n",
    "In Machine Learning, models are feed with a list of objects called feature vectors. A feature vector can be of any data type. The feature vector will usually be the primary input to populate a tensor. These values will flow into an op node through the tensor and the result of this operation/computation will create a new tensor which in turn will be used in a new operation. All these operations can be viewed in the graph."
   ]
  },
  {
   "cell_type": "markdown",
   "metadata": {},
   "source": [
    "### Representation of a Tensor"
   ]
  },
  {
   "cell_type": "markdown",
   "metadata": {},
   "source": [
    "In TensorFlow, a tensor is a collection of feature vectors (i.e., array) of n-dimensions. For instance, if we have a 2x3 matrix with values from 1 to 6, we write:\n",
    "\n",
    "![./images/tensor.png](./images/tensor.png)\n",
    "\n",
    "TensorFlow represents this matrix as:\n"
   ]
  },
  {
   "cell_type": "code",
   "execution_count": 1,
   "metadata": {},
   "outputs": [
    {
     "data": {
      "text/plain": [
       "[[1, 2, 3], [4, 5, 6]]"
      ]
     },
     "execution_count": 1,
     "metadata": {},
     "output_type": "execute_result"
    }
   ],
   "source": [
    "\n",
    "[[1, 2, 3], \n",
    " [4, 5, 6]]"
   ]
  },
  {
   "cell_type": "markdown",
   "metadata": {},
   "source": [
    "![./images/tensor3d.png](./images/tensor3d.png)\n"
   ]
  },
  {
   "cell_type": "code",
   "execution_count": 2,
   "metadata": {},
   "outputs": [
    {
     "data": {
      "text/plain": [
       "[[[1, 2, 3], [4, 5, 6]], [[1, 2, 3], [4, 5, 6]]]"
      ]
     },
     "execution_count": 2,
     "metadata": {},
     "output_type": "execute_result"
    }
   ],
   "source": [
    "[[[1, 2, 3], \n",
    " [4, 5, 6]],\n",
    " [[1, 2, 3], \n",
    " [4, 5, 6]]]"
   ]
  },
  {
   "cell_type": "markdown",
   "metadata": {},
   "source": [
    "## Parts of a tensor \n",
    "In TensorFlow, all the computations pass through one or more tensors. A tensor is an object with three properties:\n",
    "\n",
    "* A unique label (name)\n",
    "* A dimension (shape)\n",
    "* A data type (dtype)\n",
    "\n",
    "## Types of Tensor\n",
    "Each operation you will do with TensorFlow involves the manipulation of a tensor. There are four main tensors you can create:\n",
    "\n",
    "* tf.Variable\n",
    "* tf.constant\n",
    "* tf.placeholder\n",
    "* tf.SparseTensor   \n",
    "\n",
    "We will look at how to create a tf.constant and a tf.Variable.\n"
   ]
  },
  {
   "cell_type": "markdown",
   "metadata": {},
   "source": [
    "## Constants"
   ]
  },
  {
   "cell_type": "markdown",
   "metadata": {},
   "source": [
    "### Create a tensor of n-dimension\n"
   ]
  },
  {
   "cell_type": "markdown",
   "metadata": {},
   "source": [
    "You begin with the creation of a tensor with one dimension, namely a scalar.\n",
    "\n",
    "To create a tensor, you can use tf.constant()"
   ]
  },
  {
   "cell_type": "raw",
   "metadata": {},
   "source": [
    "tf.constant(value, dtype, name = \"\")\n",
    "arguments\n",
    "\n",
    "- `value`: Value of n dimension to define the tensor. Optional\n",
    "- `dtype`: Define the type of data:    \n",
    "    - `tf.string`: String variable    \n",
    "    - `tf.float32`: Float variable    \n",
    "    - `tf.int16`: Integer variable\n",
    "- \"name\": Name of the tensor. Optional. By default, `Const_1:0`    \t\t"
   ]
  },
  {
   "cell_type": "code",
   "execution_count": 2,
   "metadata": {},
   "outputs": [],
   "source": [
    "# Import tf\n",
    "import tensorflow as tf"
   ]
  },
  {
   "cell_type": "code",
   "execution_count": 3,
   "metadata": {},
   "outputs": [
    {
     "name": "stdout",
     "output_type": "stream",
     "text": [
      "Tensor(\"Const:0\", shape=(), dtype=int16)\n"
     ]
    }
   ],
   "source": [
    "r1 = tf.constant(1,tf.int16)\n",
    "print(r1)"
   ]
  },
  {
   "cell_type": "code",
   "execution_count": 4,
   "metadata": {},
   "outputs": [
    {
     "name": "stdout",
     "output_type": "stream",
     "text": [
      "Tensor(\"Const_1:0\", shape=(), dtype=int16)\n"
     ]
    }
   ],
   "source": [
    "## rank 0\n",
    "# Default name\n",
    "r1 = tf.constant(1, tf.int16) \n",
    "print(r1)"
   ]
  },
  {
   "cell_type": "markdown",
   "metadata": {},
   "source": [
    "![./images/tensorflowVariable.png](./images/tensorflowVariable.png)"
   ]
  },
  {
   "cell_type": "code",
   "execution_count": null,
   "metadata": {},
   "outputs": [],
   "source": []
  },
  {
   "cell_type": "markdown",
   "metadata": {},
   "source": [
    "### Creating Tensors of decimal and String types"
   ]
  },
  {
   "cell_type": "code",
   "execution_count": 5,
   "metadata": {},
   "outputs": [
    {
     "name": "stdout",
     "output_type": "stream",
     "text": [
      "Tensor(\"Const_2:0\", shape=(), dtype=float32)\n"
     ]
    }
   ],
   "source": [
    "# Decimal\n",
    "r1_decimal = tf.constant(1.11, tf.float32)\n",
    "print(r1_decimal)"
   ]
  },
  {
   "cell_type": "code",
   "execution_count": 6,
   "metadata": {},
   "outputs": [
    {
     "name": "stdout",
     "output_type": "stream",
     "text": [
      "Tensor(\"Const_3:0\", shape=(), dtype=string)\n"
     ]
    }
   ],
   "source": [
    "# String \n",
    "r1_String = tf.constant(\"hello world\",tf.string)\n",
    "print(r1_String)"
   ]
  },
  {
   "cell_type": "markdown",
   "metadata": {},
   "source": [
    "### Create a vector "
   ]
  },
  {
   "cell_type": "code",
   "execution_count": 7,
   "metadata": {},
   "outputs": [
    {
     "name": "stdout",
     "output_type": "stream",
     "text": [
      "Tensor(\"Const_4:0\", shape=(3,), dtype=int16)\n"
     ]
    }
   ],
   "source": [
    "r1_vector = tf.constant([2,3,4],tf.int16)\n",
    "print(r1_vector)"
   ]
  },
  {
   "cell_type": "code",
   "execution_count": 8,
   "metadata": {},
   "outputs": [
    {
     "name": "stdout",
     "output_type": "stream",
     "text": [
      "Tensor(\"Const_5:0\", shape=(3,), dtype=bool)\n"
     ]
    }
   ],
   "source": [
    "r1_boolean = tf.constant([True,False,True],tf.bool)\n",
    "print(r1_boolean)"
   ]
  },
  {
   "cell_type": "markdown",
   "metadata": {},
   "source": [
    "### Create a 2d vector"
   ]
  },
  {
   "cell_type": "code",
   "execution_count": 9,
   "metadata": {},
   "outputs": [
    {
     "name": "stdout",
     "output_type": "stream",
     "text": [
      "Tensor(\"Const_6:0\", shape=(2, 4), dtype=int16)\n"
     ]
    }
   ],
   "source": [
    "r_2dVector = tf.constant([[2,3,5,6],[1,2,3,1]],tf.int16)\n",
    "print(r_2dVector)"
   ]
  },
  {
   "cell_type": "code",
   "execution_count": 33,
   "metadata": {},
   "outputs": [
    {
     "name": "stdout",
     "output_type": "stream",
     "text": [
      "Tensor(\"Const_15:0\", shape=(2, 2), dtype=int16)\n"
     ]
    }
   ],
   "source": [
    "two2darray=[[1,2],[3,4]]\n",
    "r_2dVector2 = tf.constant(two2darray,tf.int16)\n",
    "print(r_2dVector2)"
   ]
  },
  {
   "cell_type": "markdown",
   "metadata": {},
   "source": [
    "### Create a 3d vector "
   ]
  },
  {
   "cell_type": "code",
   "execution_count": 11,
   "metadata": {},
   "outputs": [
    {
     "name": "stdout",
     "output_type": "stream",
     "text": [
      "Tensor(\"Const_8:0\", shape=(2, 2, 3), dtype=int16)\n"
     ]
    }
   ],
   "source": [
    "threeDvector = [[[1,2,1],[3,4,4]],[[1,2,1],[2,3,4]]]\n",
    "\n",
    "r_3dVector = tf.constant(threeDvector,tf.int16)\n",
    "print(r_3dVector)"
   ]
  },
  {
   "cell_type": "markdown",
   "metadata": {},
   "source": [
    "## View the Shpae of a Tensor"
   ]
  },
  {
   "cell_type": "code",
   "execution_count": 13,
   "metadata": {},
   "outputs": [
    {
     "name": "stdout",
     "output_type": "stream",
     "text": [
      "(2, 2, 3)\n"
     ]
    }
   ],
   "source": [
    "print(r_3dVector.shape)"
   ]
  },
  {
   "cell_type": "code",
   "execution_count": 14,
   "metadata": {},
   "outputs": [
    {
     "data": {
      "text/plain": [
       "TensorShape([Dimension(2), Dimension(2), Dimension(3)])"
      ]
     },
     "execution_count": 14,
     "metadata": {},
     "output_type": "execute_result"
    }
   ],
   "source": [
    "r_3dVector.shape"
   ]
  },
  {
   "cell_type": "markdown",
   "metadata": {},
   "source": [
    "### Create Tensorflow of Zeros"
   ]
  },
  {
   "cell_type": "code",
   "execution_count": 15,
   "metadata": {},
   "outputs": [
    {
     "name": "stdout",
     "output_type": "stream",
     "text": [
      "Tensor(\"zeros_1:0\", shape=(10,), dtype=float32)\n",
      "(10,)\n"
     ]
    }
   ],
   "source": [
    "r_zeros = tf.zeros(10)\n",
    "print(r_zeros)\n",
    "print(r_zeros.shape)"
   ]
  },
  {
   "cell_type": "code",
   "execution_count": 16,
   "metadata": {},
   "outputs": [
    {
     "name": "stdout",
     "output_type": "stream",
     "text": [
      "Tensor(\"zeros_1:0\", shape=(10, 10), dtype=float32)\n"
     ]
    }
   ],
   "source": [
    "print(tf.zeros([10,10]))"
   ]
  },
  {
   "cell_type": "markdown",
   "metadata": {},
   "source": [
    "### Create Tensorflow of Ones"
   ]
  },
  {
   "cell_type": "code",
   "execution_count": 17,
   "metadata": {},
   "outputs": [
    {
     "name": "stdout",
     "output_type": "stream",
     "text": [
      "Tensor(\"ones:0\", shape=(2,), dtype=float32)\n"
     ]
    }
   ],
   "source": [
    "r_ones = tf.ones(2)\n",
    "print(r_ones)"
   ]
  },
  {
   "cell_type": "code",
   "execution_count": 18,
   "metadata": {},
   "outputs": [
    {
     "name": "stdout",
     "output_type": "stream",
     "text": [
      "Tensor(\"ones_1:0\", shape=(2, 2), dtype=float32)\n",
      "(2, 2)\n"
     ]
    }
   ],
   "source": [
    "r_ones_2 = tf.ones([2,2])\n",
    "print(r_ones_2)\n",
    "print(r_ones_2.shape)"
   ]
  },
  {
   "cell_type": "code",
   "execution_count": null,
   "metadata": {},
   "outputs": [],
   "source": []
  },
  {
   "cell_type": "markdown",
   "metadata": {},
   "source": [
    "## Tensor Operators"
   ]
  },
  {
   "cell_type": "markdown",
   "metadata": {},
   "source": [
    "### Commonly used Tensorflow Operations\n",
    "* tf.add(a, b)\n",
    "* tf.substract(a, b)\n",
    "* tf.multiply(a, b)\n",
    "* tf.div(a, b)\n",
    "* tf.pow(a, b)\n",
    "* tf.exp(a)\n",
    "* tf.sqrt(a)\n"
   ]
  },
  {
   "cell_type": "markdown",
   "metadata": {},
   "source": [
    "#### Add tensor Objects"
   ]
  },
  {
   "cell_type": "code",
   "execution_count": 17,
   "metadata": {},
   "outputs": [
    {
     "name": "stdout",
     "output_type": "stream",
     "text": [
      "Tensor(\"Add:0\", shape=(1, 2), dtype=int32)\n"
     ]
    }
   ],
   "source": [
    "tensor_a = tf.constant([[1, 2]], dtype = tf.int32)\n",
    "tensor_b = tf.constant([[3, 4]], dtype = tf.int32)\n",
    "\n",
    "tensor_add = tf.add(tensor_a, tensor_b)\n",
    "print(tensor_add)"
   ]
  },
  {
   "cell_type": "code",
   "execution_count": 18,
   "metadata": {},
   "outputs": [
    {
     "name": "stdout",
     "output_type": "stream",
     "text": [
      "[[4 6]]\n"
     ]
    }
   ],
   "source": [
    "with tf.Session() as sess:\n",
    "    print(sess.run(tensor_add))\n",
    "    sess.close()\n"
   ]
  },
  {
   "cell_type": "markdown",
   "metadata": {},
   "source": [
    "#### Multiply Tensors"
   ]
  },
  {
   "cell_type": "code",
   "execution_count": 19,
   "metadata": {},
   "outputs": [
    {
     "name": "stdout",
     "output_type": "stream",
     "text": [
      "Tensor(\"Mul:0\", shape=(2, 2), dtype=int32)\n"
     ]
    }
   ],
   "source": [
    "tensor_a = tf.constant([[1],[2]], dtype = tf.int32)\n",
    "tensor_b = tf.constant([[3, 4]], dtype = tf.int32)\n",
    "\n",
    "tensor_mul = tf.multiply(tensor_a, tensor_b)\n",
    "print(tensor_mul)\n",
    "\n"
   ]
  },
  {
   "cell_type": "code",
   "execution_count": 20,
   "metadata": {},
   "outputs": [
    {
     "name": "stdout",
     "output_type": "stream",
     "text": [
      "[[3 4]\n",
      " [6 8]]\n"
     ]
    }
   ],
   "source": [
    "with tf.Session() as sess:\n",
    "    print(sess.run(tensor_mul))\n",
    "    sess.close()\n",
    "\n"
   ]
  },
  {
   "cell_type": "markdown",
   "metadata": {},
   "source": [
    "## Variables"
   ]
  },
  {
   "cell_type": "markdown",
   "metadata": {},
   "source": [
    "So far, you have only created constant tensors. It is not of great use. Data always arrive with different values, to capture this, you can use the Variable class. It will represent a node where the values always change.\n",
    "\n",
    "To create a variable, you can use tf.get_variable() method"
   ]
  },
  {
   "cell_type": "raw",
   "metadata": {},
   "source": [
    "tf.get_variable(name = \"\", values, dtype, initializer)\n",
    "argument\n",
    "- `name = \"\"`: Name of the variable\n",
    "- `values`: Dimension of the tensor\n",
    "- `dtype`: Type of data. Optional\n",
    "- `initializer`: How to initialize the tensor. Optional\n",
    "If initializer is specified, there is no need to include the `values` as the shape of `initializer` is used."
   ]
  },
  {
   "cell_type": "code",
   "execution_count": null,
   "metadata": {},
   "outputs": [],
   "source": []
  },
  {
   "cell_type": "code",
   "execution_count": 23,
   "metadata": {},
   "outputs": [
    {
     "name": "stdout",
     "output_type": "stream",
     "text": [
      "WARNING:tensorflow:From /anaconda2/envs/bert/lib/python3.6/site-packages/tensorflow/python/framework/op_def_library.py:263: colocate_with (from tensorflow.python.framework.ops) is deprecated and will be removed in a future version.\n",
      "Instructions for updating:\n",
      "Colocations handled automatically by placer.\n",
      "(1, 2)\n"
     ]
    }
   ],
   "source": [
    "# Create a Variable\n",
    "## Create 2 Randomized values\n",
    "var3 = tf.get_variable(\"var3\", [1, 2])\n",
    "print(var3.shape)"
   ]
  },
  {
   "cell_type": "markdown",
   "metadata": {},
   "source": [
    "## Placeholder"
   ]
  },
  {
   "cell_type": "markdown",
   "metadata": {},
   "source": [
    "A placeholder has the purpose of feeding the tensor. Placeholder is used to initialize the data to flow inside the tensors. To supply a placeholder, you need to use the method feed_dict. The placeholder will be fed only within a session."
   ]
  },
  {
   "cell_type": "raw",
   "metadata": {},
   "source": [
    "https://stackoverflow.com/questions/36693740/whats-the-difference-between-tf-placeholder-and-tf-variable"
   ]
  },
  {
   "cell_type": "raw",
   "metadata": {},
   "source": [
    "tf.placeholder(dtype,shape=None,name=None )\n",
    "arguments:\n",
    "- `dtype`: Type of data\n",
    "- `shape`: dimension of the placeholder. Optional. By default, shape of the data\n",
    "- `name`: Name of the placeholder. Optional\t\t\t\n",
    "data_placeholder_a = tf.placeholder(tf.float32, name = \"data_placeholder_a\")\n",
    "print(data_placeholder_a)\t\t\t"
   ]
  },
  {
   "cell_type": "code",
   "execution_count": 25,
   "metadata": {},
   "outputs": [],
   "source": [
    "A = tf.placeholder(tf.float32, shape=(None, 3))"
   ]
  },
  {
   "cell_type": "code",
   "execution_count": 24,
   "metadata": {},
   "outputs": [
    {
     "name": "stdout",
     "output_type": "stream",
     "text": [
      "[[6. 7. 8.]]\n",
      "New b.val_2\n",
      "[[ 9. 10. 11.]\n",
      " [12. 13. 14.]]\n"
     ]
    }
   ],
   "source": [
    "with tf.Session() as sess:\n",
    "    B_val_1 = B.eval(feed_dict={A: [[1, 2, 3]]})\n",
    "    B_val_2 = B.eval(feed_dict={A: [[4, 5, 6], [7, 8, 9]]})\n",
    "print(B_val_1)\n",
    "#[[6. 7. 8.]]\n",
    "print(\"New b.val_2\")\n",
    "print(B_val_2)\n",
    "#[[9. 10. 11.]\n",
    "sess.close()"
   ]
  },
  {
   "cell_type": "code",
   "execution_count": 26,
   "metadata": {},
   "outputs": [],
   "source": [
    "import numpy as np"
   ]
  },
  {
   "cell_type": "code",
   "execution_count": 27,
   "metadata": {},
   "outputs": [
    {
     "name": "stdout",
     "output_type": "stream",
     "text": [
      "[[2.4237561 2.7212605 2.49685   2.6877985]\n",
      " [2.9708161 2.9696805 2.410176  2.3798256]\n",
      " [2.973372  2.5361886 2.190511  2.3664987]]\n"
     ]
    }
   ],
   "source": [
    "x = tf.placeholder(tf.float32,(3,4))\n",
    "y =  x + 2\n",
    "\n",
    "sess = tf.Session()\n",
    "#print(sess.run(y)) # will cause an error\n",
    "\n",
    "s = np.random.rand(3,4)\n",
    "print(sess.run(y, feed_dict={x:s}))"
   ]
  },
  {
   "cell_type": "markdown",
   "metadata": {},
   "source": [
    "# Graph "
   ]
  },
  {
   "cell_type": "markdown",
   "metadata": {},
   "source": [
    "### a = (b+c)∗(c+2)\n",
    " . "
   ]
  },
  {
   "cell_type": "markdown",
   "metadata": {},
   "source": [
    "![./images/graphequations.png](./images/graphequations.png)"
   ]
  },
  {
   "cell_type": "markdown",
   "metadata": {},
   "source": [
    "![./images/Simple-graph-example.png](./images/Simple-graph-example.png)"
   ]
  },
  {
   "cell_type": "markdown",
   "metadata": {},
   "source": [
    "## Session\n"
   ]
  },
  {
   "cell_type": "markdown",
   "metadata": {},
   "source": [
    "## Session"
   ]
  },
  {
   "cell_type": "markdown",
   "metadata": {},
   "source": [
    "Graphs and sessions are independent. You can run a session and get the values to use later for further computations.\n",
    "\n",
    "In the example below, you will:\n",
    "\n",
    "* Create two tensors\n",
    "* Create an operation\n",
    "* Open a session\n",
    "* Print the result\n"
   ]
  },
  {
   "cell_type": "markdown",
   "metadata": {},
   "source": [
    "#### Step 1) You create two tensors x and y"
   ]
  },
  {
   "cell_type": "code",
   "execution_count": 26,
   "metadata": {},
   "outputs": [],
   "source": [
    "## Create, run  and evaluate a session\n",
    "x = tf.constant([3])\n",
    "y = tf.constant([5])\n"
   ]
  },
  {
   "cell_type": "markdown",
   "metadata": {},
   "source": [
    "#### Step 2) You create the operator by multiplying x and y"
   ]
  },
  {
   "cell_type": "code",
   "execution_count": 27,
   "metadata": {},
   "outputs": [],
   "source": [
    "## Create operator\n",
    "product= tf.multiply(x,y)\n"
   ]
  },
  {
   "cell_type": "markdown",
   "metadata": {},
   "source": [
    "#### Step 3) You open a session. All the computations will happen within the session. When you are done, you need to close the session."
   ]
  },
  {
   "cell_type": "code",
   "execution_count": 28,
   "metadata": {},
   "outputs": [
    {
     "name": "stdout",
     "output_type": "stream",
     "text": [
      "[15]\n"
     ]
    }
   ],
   "source": [
    "## Create a session to run the code\n",
    "session = tf.Session()\n",
    "output = session.run(product)\n",
    "print(output)\n",
    "session.close()\n"
   ]
  },
  {
   "cell_type": "markdown",
   "metadata": {},
   "source": [
    "* **Code explanation**\n",
    "\n",
    "    * tf.Session(): Open a session. All the operations will flow within the sessions\n",
    "    * run(multiply): execute the operation created in step 2.\n",
    "    * print(result_1): Finally, you can print the result\n",
    "    * close(): Close the session"
   ]
  },
  {
   "cell_type": "code",
   "execution_count": 31,
   "metadata": {},
   "outputs": [
    {
     "name": "stdout",
     "output_type": "stream",
     "text": [
      "[15]\n"
     ]
    }
   ],
   "source": [
    "with tf.Session() as sess:\n",
    "    result_2 = product.eval()\n",
    "    print(result_2)\n"
   ]
  },
  {
   "cell_type": "code",
   "execution_count": 32,
   "metadata": {},
   "outputs": [
    {
     "name": "stdout",
     "output_type": "stream",
     "text": [
      "Tensor(\"Const_15:0\", shape=(2, 2), dtype=int16)\n"
     ]
    }
   ],
   "source": [
    "r2_matrix = tf.constant([ [1, 2],\n",
    "                          [3, 4] ],tf.int16)\n",
    "print(r2_matrix)"
   ]
  },
  {
   "cell_type": "code",
   "execution_count": 33,
   "metadata": {},
   "outputs": [],
   "source": [
    "r3_matrix = tf.constant([ [[1, 2],\n",
    "                           [3, 4], \n",
    "                           [5, 6]] ], tf.int16)"
   ]
  },
  {
   "cell_type": "code",
   "execution_count": 34,
   "metadata": {},
   "outputs": [
    {
     "name": "stdout",
     "output_type": "stream",
     "text": [
      "1\n",
      "[[1 2]\n",
      " [3 4]]\n",
      "[[[1 2]\n",
      "  [3 4]\n",
      "  [5 6]]]\n"
     ]
    }
   ],
   "source": [
    "## Check the tensors created before\n",
    "sess = tf.Session()\n",
    "print(sess.run(r1))\n",
    "print(sess.run(r2_matrix))\n",
    "print(sess.run(r3_matrix))"
   ]
  },
  {
   "cell_type": "code",
   "execution_count": null,
   "metadata": {},
   "outputs": [],
   "source": []
  },
  {
   "cell_type": "code",
   "execution_count": 35,
   "metadata": {},
   "outputs": [
    {
     "name": "stdout",
     "output_type": "stream",
     "text": [
      "Tensor(\"data_placeholder_a:0\", dtype=float32)\n",
      "[[0.93364793 0.6776207  0.70156527 0.00120865 0.6772205  0.3523491\n",
      "  0.01010027 0.8594502  0.27377546 0.02033965]]\n"
     ]
    }
   ],
   "source": [
    "import numpy as np\n",
    "data_placeholder_a =  tf.placeholder(tf.float32, name = \"data_placeholder_a\")\n",
    "print(data_placeholder_a)\t\t\t\n",
    "power_a = tf.pow(data_placeholder_a, 2)\n",
    "with tf.Session() as sess:  \n",
    "    data = np.random.rand(1, 10)  \n",
    "    print(sess.run(power_a, feed_dict={data_placeholder_a: data}))  # Will succeed.\t\t\t"
   ]
  },
  {
   "cell_type": "code",
   "execution_count": null,
   "metadata": {},
   "outputs": [],
   "source": []
  },
  {
   "cell_type": "code",
   "execution_count": 36,
   "metadata": {},
   "outputs": [
    {
     "name": "stdout",
     "output_type": "stream",
     "text": [
      "[[0.14058417 0.42755687 0.02580318 0.984956   0.80113804 0.15445288\n",
      "  0.31983665 0.6070638  0.39964858 0.8665181 ]]\n"
     ]
    }
   ],
   "source": [
    "import numpy as np\n",
    "power_a = tf.pow(data_placeholder_a, 2)\n",
    "with tf.Session() as sess:  \n",
    "    data = np.random.rand(1, 10)  \n",
    "    print(sess.run(power_a, feed_dict={data_placeholder_a: data}))  # Will succeed.\t"
   ]
  },
  {
   "cell_type": "code",
   "execution_count": null,
   "metadata": {},
   "outputs": [],
   "source": []
  },
  {
   "cell_type": "code",
   "execution_count": null,
   "metadata": {},
   "outputs": [],
   "source": []
  },
  {
   "cell_type": "code",
   "execution_count": 37,
   "metadata": {},
   "outputs": [],
   "source": [
    "x = tf.get_variable(\"x\", dtype=tf.int32,  initializer=tf.constant([5]))\n",
    "z = tf.get_variable(\"z\", dtype=tf.int32,  initializer=tf.constant([6]))\n",
    "c = tf.constant([5], name =\t\"constant\")\n",
    "square = tf.constant([2], name =\t\"square\")\n",
    "f = tf.multiply(x, z) + tf.pow(x, square) + z + c"
   ]
  },
  {
   "cell_type": "markdown",
   "metadata": {},
   "source": [
    "### Code Explanation\n",
    "\n",
    "* x: Initialize a variable called x with a constant value of 5\n",
    "* z: Initialize a variable called z with a constant value of 6\n",
    "* c: Initialize a constant tensor called c with a constant value of 5\n",
    "* square: Initialize a constant tensor called square with a constant value of 2\n",
    "* f: Construct the operator\n"
   ]
  },
  {
   "cell_type": "code",
   "execution_count": 38,
   "metadata": {},
   "outputs": [
    {
     "name": "stdout",
     "output_type": "stream",
     "text": [
      "[66]\n"
     ]
    }
   ],
   "source": [
    "init = tf.global_variables_initializer() # prepare to initialize all variables\n",
    "with tf.Session() as sess:    \n",
    "    init.run() # Initialize x and y    \n",
    "    function_result = f.eval()\n",
    "    print(function_result)"
   ]
  },
  {
   "cell_type": "code",
   "execution_count": 39,
   "metadata": {},
   "outputs": [
    {
     "data": {
      "text/plain": [
       "[3.0, 4.0, 7.0, 2.3333333]"
      ]
     },
     "execution_count": 39,
     "metadata": {},
     "output_type": "execute_result"
    }
   ],
   "source": [
    "tf.reset_default_graph()  # To clear the default graph \n",
    "\n",
    "node1 = tf.constant(3.0, name=\"firstconst\")\n",
    "node2 = tf.constant(4.0, name=\"secondconst\")\n",
    "node3 = tf.add(node1, node2, name=\"sum\")\n",
    "node4 = tf.divide(node3, node1, name=\"sumdiv\")\n",
    "\n",
    "sess = tf.Session()\n",
    "sess.run([node1, node2, node3, node4])"
   ]
  },
  {
   "cell_type": "raw",
   "metadata": {},
   "source": [
    "show_graph()"
   ]
  },
  {
   "cell_type": "code",
   "execution_count": null,
   "metadata": {},
   "outputs": [],
   "source": []
  }
 ],
 "metadata": {
  "kernelspec": {
   "display_name": "Python 3",
   "language": "python",
   "name": "python3"
  },
  "language_info": {
   "codemirror_mode": {
    "name": "ipython",
    "version": 3
   },
   "file_extension": ".py",
   "mimetype": "text/x-python",
   "name": "python",
   "nbconvert_exporter": "python",
   "pygments_lexer": "ipython3",
   "version": "3.6.8"
  }
 },
 "nbformat": 4,
 "nbformat_minor": 2
}
